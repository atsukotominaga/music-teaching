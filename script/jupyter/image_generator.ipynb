{
 "cells": [
  {
   "cell_type": "code",
   "execution_count": 5,
   "metadata": {},
   "outputs": [],
   "source": [
    "# Import necessary packages\n",
    "import os\n",
    "from PIL import Image, ImageDraw, ImageFont\n",
    "\n",
    "# Create a black screen\n",
    "bg = Image.new(\"RGB\",(2560, 1440),\"black\") # Black 2560 px x 1440 px\n",
    "savename = \"./stimuli/black.png\"\n",
    "bg.save(savename, quality = 100)"
   ]
  },
  {
   "cell_type": "markdown",
   "metadata": {},
   "source": [
    "## Stimuli generator\n",
    "\n",
    "### Create a stimuli image for each trial.\n",
    "In each trial, participants see one picture, which shows sheet music with expressive notation (the current skill; e.g., articulation) and the current condition (e.g., teaching) and the current trial number.\n",
    "\n",
    "Participants perform the music with one expression (e.g., articulation) 8 times in each condition (e.g., the teaching condition).\n",
    "\n",
    "- Three skills: articulation, dynamics, tempoChange\n",
    "- Two conditions: teaching vs. performing\n",
    "- One block = 8 trials\n",
    "\n",
    "Total number of stimuli:\n",
    "3 skills * 2 conditions * 8 trials = 48 stimuli\n",
    "\n",
    "### Examples\n",
    "Example 1: The **first** trial of the **teaching-articulation** condition.\n",
    "<p><img src=\"./stimuli/1_t_stim_a.png\" width = 50% align = left>\n",
    "<br clear=\"all\"></p>\n",
    "\n",
    "Example 2: The **third** trial of the **performing-dynamics** condition.\n",
    "<p><img src=\"./stimuli/3_p_stim_d.png\" width = 50% align = left>\n",
    "<br clear=\"all\"></p>"
   ]
  },
  {
   "cell_type": "code",
   "execution_count": 12,
   "metadata": {},
   "outputs": [],
   "source": [
    "ls_file = os.listdir(\"./image/\") # Read the list of image files\n",
    "\n",
    "# Create a stimuli folder if not exist (save created stimuli into the folder)\n",
    "if not os.path.exists(\"stimuli\"):\n",
    "    os.makedirs(\"stimuli\")\n",
    "    \n",
    "for image in ls_file:\n",
    "    fontpath = \"System/Library/Fonts/HelveticaNeue.ttc\" # Set the location of a font file\n",
    "    font = ImageFont.truetype(fontpath, 120) # Fonttype and fontsize\n",
    "    bg = Image.new(\"RGB\",(2560, 1440),\"black\") # Background - Black 2560 px x 1440 px\n",
    "    imgname = \"./image/\" + image\n",
    "    img = Image.open(imgname) # Open a stimulus image\n",
    "    # Make copies of each image and combine them for each condition\n",
    "    stim = bg.copy()\n",
    "    img_copy = img.copy()\n",
    "    stim.paste(img_copy, (154, 520))\n",
    "    for cond in [\"teaching\", \"performing\"]: # Each condition\n",
    "        for i in range(8): # Each trial\n",
    "            stim_current = stim.copy()\n",
    "            draw_current = ImageDraw.Draw(stim_current)\n",
    "            trial = str(i+1) + \" / 8 trial\"\n",
    "            if cond == \"teaching\":\n",
    "                draw_current.text((590, 250),\"Do your best as a teacher\", \n",
    "                                  fill = \"yellow\", font = font) # teacher\n",
    "                draw_current.text((1050, 1050), trial, fill = \"yellow\", font = font) # trial\n",
    "                savename = \"./stimuli/\" + str(i+1) + \"_\" + 't' + \"_\" + image\n",
    "                stim_current.save(savename, quality = 100)\n",
    "            elif cond == \"performing\":\n",
    "                draw_current.text((540, 250),\"Do your best as a performer\", \n",
    "                                  fill = \"yellow\", font = font) # performer\n",
    "                draw_current.text((1050, 1050), trial, fill = \"yellow\", font = font) # trial\n",
    "                savename = \"./stimuli/\" + str(i+1) + \"_\" + 'p' + \"_\" + image\n",
    "                stim_current.save(savename, quality = 100)"
   ]
  },
  {
   "cell_type": "markdown",
   "metadata": {},
   "source": [
    "End"
   ]
  }
 ],
 "metadata": {
  "kernelspec": {
   "display_name": "Python 3",
   "language": "python",
   "name": "python3"
  },
  "language_info": {
   "codemirror_mode": {
    "name": "ipython",
    "version": 3
   },
   "file_extension": ".py",
   "mimetype": "text/x-python",
   "name": "python",
   "nbconvert_exporter": "python",
   "pygments_lexer": "ipython3",
   "version": "3.7.1"
  }
 },
 "nbformat": 4,
 "nbformat_minor": 2
}
