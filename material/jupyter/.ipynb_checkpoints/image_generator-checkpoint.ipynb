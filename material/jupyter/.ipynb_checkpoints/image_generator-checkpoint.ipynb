{
 "cells": [
  {
   "cell_type": "code",
   "execution_count": 1,
   "metadata": {},
   "outputs": [],
   "source": [
    "# Import necessary packages\n",
    "import os\n",
    "from PIL import Image, ImageDraw, ImageFont\n",
    "\n",
    "# Create a black screen\n",
    "bg = Image.new(\"RGB\",(2560, 1440),\"black\") # Black 2560 px x 1440 px\n",
    "savename = \"./stimuli/black.png\"\n",
    "bg.save(savename, quality = 100)"
   ]
  },
  {
   "cell_type": "markdown",
   "metadata": {},
   "source": [
    "# Stimuli generator\n",
    "\n",
    "## Requirement\n",
    "The location of a font file (i.e., fontpath) should be replaced according to your system.<br>\n",
    "Default: fontpath = \"System/Library/Fonts/HelveticaNeue.ttc\"\n",
    "\n",
    "## 1. Create stimuli for each trial\n",
    "In each trial, participants see one picture, which shows sheet music with expressive notation, the current condition and the current trial number.\n",
    "\n",
    "Participants perform the music with one expression (e.g., articulation) 8 times in each condition (e.g., the teaching condition).\n",
    "\n",
    "- Two skills: articulation, dynamics\n",
    "- Two conditions: teaching vs. performing (i.e., Do you best 1; as a teacher / 2; as a performer).\n",
    "- One block = 8 trials\n",
    "\n",
    "Total number of stimuli:\n",
    "2 skills * 2 conditions * 8 trials = 32 images\n",
    "\n",
    "### Examples\n",
    "Example 1: The **first** trial of the **teaching-articulation** condition.\n",
    "<p><img src=\"./stimuli/1_t_stim_a.png\" width = 50% align = left>\n",
    "<br clear=\"all\"></p>\n",
    "\n",
    "Example 2: The **third** trial of the **performing-dynamics** condition.\n",
    "<p><img src=\"./stimuli/3_p_stim_d.png\" width = 50% align = left>\n",
    "<br clear=\"all\"></p>\n",
    "\n",
    "## Outcomes\n",
    "1. One black screen\n",
    "2. 32 experimental stimuli"
   ]
  },
  {
   "cell_type": "code",
   "execution_count": 2,
   "metadata": {},
   "outputs": [],
   "source": [
    "ls_file = os.listdir(\"./image/trial/\") # Read the list of image files\n",
    "\n",
    "# Create a stimuli folder if not exist (save created stimuli into the folder)\n",
    "if not os.path.exists(\"stimuli\"):\n",
    "    os.makedirs(\"stimuli\")\n",
    "    \n",
    "for image in ls_file:\n",
    "    fontpath = \"System/Library/Fonts/HelveticaNeue.ttc\" # !!!Set the location of a font file!!!\n",
    "    font = ImageFont.truetype(fontpath, 120) # Fonttype and fontsize\n",
    "    bg = Image.new(\"RGB\",(2560, 1440),\"black\") # Background - Black 2560 px x 1440 px\n",
    "    wh = Image.new(\"RGB\",(2250, 600), \"white\") # White square 2250 px x 600px\n",
    "    imgname = \"./image/trial/\" + image\n",
    "    img = Image.open(imgname) # Open a stimulus image\n",
    "    # Make copies of each image and combine them for each condition\n",
    "    stim = bg.copy()\n",
    "    stim.paste(wh.copy(), (154, 440))\n",
    "    img_copy = img.copy()\n",
    "    stim.paste(img_copy, (154, 520))\n",
    "    for cond in [\"teaching\", \"performing\"]: # Each condition\n",
    "        for i in range(8): # Each trial\n",
    "            stim_current = stim.copy()\n",
    "            draw_current = ImageDraw.Draw(stim_current)\n",
    "            trial = str(i+1) + \" / 8 trial\"\n",
    "            if cond == \"teaching\":\n",
    "                draw_current.text((590, 250),\"Do your best as a teacher\", \n",
    "                                  fill = \"yellow\", font = font) # teacher\n",
    "                draw_current.text((1050, 1100), trial, fill = \"yellow\", font = font) # trial\n",
    "                savename = \"./stimuli/\" + str(i+1) + \"_\" + 't' + \"_\" + image\n",
    "                stim_current.save(savename, quality = 100)\n",
    "            elif cond == \"performing\":\n",
    "                draw_current.text((540, 250),\"Do your best as a performer\", \n",
    "                                  fill = \"yellow\", font = font) # performer\n",
    "                draw_current.text((1050, 1100), trial, fill = \"yellow\", font = font) # trial\n",
    "                savename = \"./stimuli/\" + str(i+1) + \"_\" + 'p' + \"_\" + image\n",
    "                stim_current.save(savename, quality = 100)"
   ]
  },
  {
   "cell_type": "markdown",
   "metadata": {},
   "source": [
    "## 2. Create stimuli for practice\n",
    "\n",
    "In a practice trial, participants see the following three different pictures.\n",
    "1. Excerpt without muscial expression\n",
    "<p><img src=\"./practice/prac_stim_n.png\" width = 50% align = left>\n",
    "<br clear=\"all\"></p><br>\n",
    "2. Excerpt with articulation\n",
    "<p><img src=\"./practice/prac_stim_a.png\" width = 50% align = left>\n",
    "<br clear=\"all\"></p><br>\n",
    "3. Excerpt with dynamics\n",
    "<p><img src=\"./practice/prac_stim_d.png\"\" width = 50% align = left>\n",
    "<br clear=\"all\"></p>"
   ]
  },
  {
   "cell_type": "code",
   "execution_count": 3,
   "metadata": {},
   "outputs": [],
   "source": [
    "ls_file = os.listdir(\"./image/practice/\") # Read the list of image files\n",
    "\n",
    "# Create a practice folder if not exist (save created pictures into the folder)\n",
    "if not os.path.exists(\"practice\"):\n",
    "    os.makedirs(\"practice\")\n",
    "    \n",
    "for image in ls_file:\n",
    "    fontpath = \"System/Library/Fonts/HelveticaNeue.ttc\" # !!!Set the location of a font file!!!\n",
    "    font = ImageFont.truetype(fontpath, 120) # Fonttype and fontsize\n",
    "    bg = Image.new(\"RGB\",(2560, 1440),\"black\") # Background - Black 2560 px x 1440 px\n",
    "    wh = Image.new(\"RGB\",(2250, 600), \"white\") # White square 2250 px x 600px\n",
    "    imgname = \"./image/practice/\" + image\n",
    "    img = Image.open(imgname) # Open a stimulus image\n",
    "    # Make copies of each image and combine them for each condition\n",
    "    stim = bg.copy()\n",
    "    img_copy = img.copy()\n",
    "    stim.paste(img_copy, (154, 420))\n",
    "    if image == \"stim_n.png\":\n",
    "        draw_current = ImageDraw.Draw(stim)\n",
    "        draw_current.text((300, 150),\"Please practice the piece as notated.\", fill = \"yellow\", font = font)\n",
    "        savename = \"./practice/\" + \"prac_\" + image\n",
    "        stim.save(savename, quality = 100)\n",
    "    else:\n",
    "        savename = \"./practice/\" + \"prac_\" + image\n",
    "        stim.save(savename, quality = 100)"
   ]
  },
  {
   "cell_type": "markdown",
   "metadata": {},
   "source": [
    "End"
   ]
  }
 ],
 "metadata": {
  "kernelspec": {
   "display_name": "Python 3",
   "language": "python",
   "name": "python3"
  },
  "language_info": {
   "codemirror_mode": {
    "name": "ipython",
    "version": 3
   },
   "file_extension": ".py",
   "mimetype": "text/x-python",
   "name": "python",
   "nbconvert_exporter": "python",
   "pygments_lexer": "ipython3",
   "version": "3.7.3"
  }
 },
 "nbformat": 4,
 "nbformat_minor": 2
}
